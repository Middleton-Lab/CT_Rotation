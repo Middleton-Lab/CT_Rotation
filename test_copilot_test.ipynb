import numpy as np

def test_cross_product():
    # Test case 1: Normal input
    a = [1, 2, 3]
    b = [4, 5, 6]
    expected_result = [-3, 6, -3]
    assert cross_product(a, b) == expected_result

    # Test case 2: Zero vector
    a = [0, 0, 0]
    b = [4, 5, 6]
    expected_result = [0, 0, 0]
    assert cross_product(a, b) == expected_result

    # Test case 3: Negative values
    a = [-1, -2, -3]
    b = [4, 5, 6]
    expected_result = [3, -6, 3]
    assert cross_product(a, b) == expected_result

    # Test case 4: Large values
    a = [1000, 2000, 3000]
    b = [4000, 5000, 6000]
    expected_result = [-3000000, 6000000, -3000000]
    assert cross_product(a, b) == expected_result

    # Test case 5: Invalid input
    a = [1, 2]
    b = [4, 5, 6]
    try:
        cross_product(a, b)
    except ValueError as e:
        assert str(e) == "Both vectors must have three elements."

    print("All test cases passed!")

test_cross_product()