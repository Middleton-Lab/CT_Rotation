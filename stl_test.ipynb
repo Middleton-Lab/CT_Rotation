{
 "cells": [
  {
   "cell_type": "code",
   "execution_count": 14,
   "metadata": {
    "pycharm": {
     "name": "#%%\n"
    }
   },
   "outputs": [],
   "source": [
    "import numpy as np\n",
    "import math\n",
    "from stl import mesh\n",
    "from mpl_toolkits import mplot3d\n",
    "from mpl_toolkits.mplot3d.art3d import Poly3DCollection\n",
    "import matplotlib.pyplot as plt\n",
    "\n",
    "%matplotlib widget"
   ]
  },
  {
   "cell_type": "code",
   "execution_count": 15,
   "metadata": {
    "pycharm": {
     "name": "#%%\n"
    }
   },
   "outputs": [],
   "source": [
    "def calculate_3d_distance(vector1, vector2):\n",
    "    if len(vector1) != 3 or len(vector2) != 3:\n",
    "        raise ValueError(\"Both vectors must have exactly 3 coordinates (X, Y, Z).\")\n",
    "\n",
    "    distance = math.sqrt((vector2[0] - vector1[0])**2 +\n",
    "                         (vector2[1] - vector1[1])**2 +\n",
    "                         (vector2[2] - vector1[2])**2)\n",
    "\n",
    "    return distance\n",
    "\n",
    "def calculate_midpoint(point1, point2):\n",
    "    if len(point1) != 3 or len(point2) != 3:\n",
    "        raise ValueError(\"Both points must have exactly 3 coordinates (X, Y, Z).\")\n",
    "\n",
    "    midpoint = [(point1[0] + point2[0]) / 2,\n",
    "                (point1[1] + point2[1]) / 2,\n",
    "                (point1[2] + point2[2]) / 2]\n",
    "\n",
    "    return midpoint\n",
    "\n",
    "def cross_product(v1, v2):\n",
    "    result = [v1[1] * v2[2] - v1[2] * v2[1],\n",
    "              v1[2] * v2[0] - v1[0] * v2[2],\n",
    "              v1[0] * v2[1] - v1[1] * v2[0]]\n",
    "    \n",
    "    return np.array(result)\n",
    "\n",
    "def rotation_matrix(axis, angle):\n",
    "    # Make sure the axis is a unit vector\n",
    "    axis = np.array(axis)\n",
    "    axis /= np.linalg.norm(axis)\n",
    "\n",
    "    # Calculate the rotation matrix\n",
    "    x, y, z = axis\n",
    "    c = math.cos(angle)\n",
    "    s = math.sin(angle)\n",
    "    t = 1 - c\n",
    "\n",
    "    matrix = np.array([[t * x**2 + c,      t * x * y - s * z, t * x * z + s * y],\n",
    "                       [t * x * y + s * z, t * y**2 + c,      t * y * z - s * x],\n",
    "                       [t * x * z - s * y, t * y * z + s * x, t * z**2 + c]])\n",
    "\n",
    "    return matrix\n",
    "\n",
    "def rad2deg(x):\n",
    "    return x / math.pi * 180\n",
    "\n",
    "def dot(vector1, vector2):\n",
    "    if len(vector1) != len(vector2):\n",
    "        raise ValueError(\"Vectors must have the same length.\")\n",
    "\n",
    "    dot_product = sum(x * y for x, y in zip(vector1, vector2))\n",
    "    return dot_product"
   ]
  },
  {
   "cell_type": "code",
   "execution_count": 16,
   "metadata": {
    "pycharm": {
     "name": "#%%\n"
    }
   },
   "outputs": [],
   "source": [
    "S = mesh.Mesh.from_file('Mouse.stl')"
   ]
  },
  {
   "cell_type": "code",
   "execution_count": 17,
   "metadata": {
    "pycharm": {
     "name": "#%%\n"
    }
   },
   "outputs": [],
   "source": [
    "Left = np.array([3.418143, -0.719809, -0.39438])\n",
    "Right = np.array([3.42447, -6.569044, 0.957253])\n",
    "Ant = np.array([-11.445497, -1.679053, 7.836357])"
   ]
  },
  {
   "cell_type": "code",
   "execution_count": 18,
   "metadata": {
    "pycharm": {
     "name": "#%%\n"
    }
   },
   "outputs": [
    {
     "name": "stdout",
     "output_type": "stream",
     "text": [
      "[3.4213065, -3.6444265, 0.2814365]\n",
      "[-14.8668035   1.9653735   7.5549205]\n"
     ]
    }
   ],
   "source": [
    "Mid = calculate_midpoint(Left, Right)\n",
    "Ant_zero = Ant - Mid\n",
    "print(Mid)\n",
    "print(Ant_zero)"
   ]
  },
  {
   "cell_type": "code",
   "execution_count": 19,
   "metadata": {
    "pycharm": {
     "name": "#%%\n"
    }
   },
   "outputs": [],
   "source": [
    "# Translate to the midpoint between L and R\n",
    "S.x += -1 * Mid[0]\n",
    "S.y += -1 * Mid[1]\n",
    "S.z += -1 * Mid[2]"
   ]
  },
  {
   "cell_type": "code",
   "execution_count": 20,
   "metadata": {
    "pycharm": {
     "name": "#%%\n"
    }
   },
   "outputs": [
    {
     "data": {
      "text/plain": [
       "array([ 0.        , -0.96778836,  0.25176514])"
      ]
     },
     "execution_count": 20,
     "metadata": {},
     "output_type": "execute_result"
    }
   ],
   "source": [
    "# Rotation matrix\n",
    "v1 = [1, 0, 0]\n",
    "axis_of_rotation = cross_product(v1, Ant_zero)\n",
    "unit_axis = axis_of_rotation / np.linalg.norm(axis_of_rotation)\n",
    "unit_axis"
   ]
  },
  {
   "cell_type": "code",
   "execution_count": 21,
   "metadata": {
    "pycharm": {
     "name": "#%%\n"
    }
   },
   "outputs": [
    {
     "data": {
      "text/plain": [
       "2.6580768502943943"
      ]
     },
     "execution_count": 21,
     "metadata": {},
     "output_type": "execute_result"
    }
   ],
   "source": [
    "angle_of_rotation = math.acos(dot(v1, Ant_zero) / (np.linalg.norm(v1) * np.linalg.norm(Ant_zero)))\n",
    "angle_of_rotation"
   ]
  },
  {
   "cell_type": "code",
   "execution_count": 22,
   "metadata": {
    "pycharm": {
     "name": "#%%\n"
    }
   },
   "outputs": [
    {
     "data": {
      "text/plain": [
       "array([[-0.88536592, -0.11704431, -0.44991979],\n",
       "       [ 0.11704431,  0.88049479, -0.45937953],\n",
       "       [ 0.44991979, -0.45937953, -0.76586071]])"
      ]
     },
     "execution_count": 22,
     "metadata": {},
     "output_type": "execute_result"
    }
   ],
   "source": [
    "R = rotation_matrix(unit_axis, angle_of_rotation)\n",
    "R"
   ]
  },
  {
   "cell_type": "code",
   "execution_count": 23,
   "metadata": {
    "pycharm": {
     "name": "#%%\n"
    }
   },
   "outputs": [],
   "source": [
    "# S.rotate(axis = np.array([ 0, 0.9715672, -0.2367641 ]), theta = 4.0507656, point = np.array([0, 0, 0]))\n",
    "# R = np.array([ [-0.6143985, -0.1868059, -0.7665625],\n",
    "#                [ 0.1868059,  0.9095013, -0.3713636],\n",
    "#                [ 0.7665625, -0.3713636, -0.5238998]])\n",
    "# R"
   ]
  },
  {
   "cell_type": "code",
   "execution_count": 24,
   "metadata": {
    "pycharm": {
     "name": "#%%\n"
    }
   },
   "outputs": [],
   "source": [
    "S.rotate_using_matrix(R)"
   ]
  },
  {
   "cell_type": "code",
   "execution_count": 25,
   "metadata": {
    "pycharm": {
     "name": "#%%\n"
    }
   },
   "outputs": [],
   "source": [
    "S.save('Mouse_rot.stl')"
   ]
  },
  {
   "cell_type": "code",
   "execution_count": null,
   "metadata": {
    "pycharm": {
     "name": "#%%\n"
    }
   },
   "outputs": [],
   "source": []
  }
 ],
 "metadata": {
  "kernelspec": {
   "display_name": "Python 3 (ipykernel)",
   "language": "python",
   "name": "python3"
  },
  "language_info": {
   "codemirror_mode": {
    "name": "ipython",
    "version": 3
   },
   "file_extension": ".py",
   "mimetype": "text/x-python",
   "name": "python",
   "nbconvert_exporter": "python",
   "pygments_lexer": "ipython3",
   "version": "3.10.11"
  }
 },
 "nbformat": 4,
 "nbformat_minor": 4
}