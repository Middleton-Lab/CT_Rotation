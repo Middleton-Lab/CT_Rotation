{
 "cells": [
  {
   "cell_type": "code",
   "execution_count": 7,
   "metadata": {},
   "outputs": [
    {
     "name": "stdout",
     "output_type": "stream",
     "text": [
      "[[ 0.70710678  0.70710678  0.        ]\n",
      " [-0.70710678  0.70710678  0.        ]\n",
      " [ 0.          0.          1.        ]]\n"
     ]
    }
   ],
   "source": [
    "import numpy as np\n",
    "\n",
    "def rotation_matrix_x(angle_degrees):\n",
    "    angle_radians = angle_degrees * (np.pi / 180)\n",
    "    return np.array([[1, 0, 0],\n",
    "                     [0, np.cos(angle_radians), -np.sin(angle_radians)],\n",
    "                     [0, np.sin(angle_radians), np.cos(angle_radians)]])\n",
    "\n",
    "# Function to create a rotation matrix for rotation around the Y-axis\n",
    "def rotation_matrix_y(angle_degrees):\n",
    "    angle_radians = angle_degrees * (np.pi / 180)\n",
    "    return np.array([[np.cos(angle_radians), 0, np.sin(angle_radians)],\n",
    "                     [0, 1, 0],\n",
    "                     [-np.sin(angle_radians), 0, np.cos(angle_radians)]])\n",
    "\n",
    "# Function to create a rotation matrix for rotation around the Z-axis\n",
    "def rotation_matrix_z(angle_degrees):\n",
    "    angle_radians = angle_degrees * (np.pi / 180)\n",
    "    return np.array([[np.cos(angle_radians), -np.sin(angle_radians), 0],\n",
    "                     [np.sin(angle_radians), np.cos(angle_radians), 0],\n",
    "                     [0, 0, 1]])\n",
    "\n",
    "# Function to apply rotation to a set of 3D points\n",
    "def rotate_points(points, angle_degrees, axis='x'):\n",
    "    if axis not in ['x', 'y', 'z']:\n",
    "        raise ValueError(\"Axis must be 'x', 'y', or 'z'.\")\n",
    "    \n",
    "    rotation_matrix = {\n",
    "        'x': rotation_matrix_x(angle_degrees),\n",
    "        'y': rotation_matrix_y(angle_degrees),\n",
    "        'z': rotation_matrix_z(angle_degrees)\n",
    "    }[axis]\n",
    "    \n",
    "    return np.transpose(np.dot(rotation_matrix, np.transpose(points))) # Apply rotation and return new points\n",
    "\n",
    "# Example usage:\n",
    "points = np.array([[1, 0, 0],\n",
    "                   [0, 1, 0],\n",
    "                   [0, 0, 1]])\n",
    "\n",
    "# Rotate 45 degrees around the Z-axis\n",
    "rotated_points = rotate_points(points, 45, 'z')\n",
    "print(rotated_points)\n"
   ]
  },
  {
   "cell_type": "code",
   "execution_count": 8,
   "metadata": {},
   "outputs": [],
   "source": [
    "def cross_product(a, b):\n",
    "    if len(a) != 3 or len(b) != 3:\n",
    "        raise ValueError(\"Both vectors must have three elements.\")\n",
    "    \n",
    "    return [a[1] * b[2] - a[2] * b[1],\n",
    "            a[2] * b[0] - a[0] * b[2],\n",
    "            a[0] * b[1] - a[1] * b[0]]\n",
    "\n",
    "def angle_difference(vec1, target):\n",
    "    dot_product = np.dot(vec1, target)\n",
    "    mag_vec1 = np.linalg.norm(vec1)\n",
    "    mag_target = np.linalg.norm(target)\n",
    "    \n",
    "    cos_angle = dot_product / (mag_vec1 * mag_target)\n",
    "    cos_angle = max(-1, min(1, cos_angle))\n",
    "    \n",
    "    angle_radians = np.arccos(cos_angle)\n",
    "    \n",
    "    return angle_radians\n",
    "\n",
    "def rotate_vector_to_align(vec1, target):\n",
    "    # Calculate the cross product (axis of rotation)\n",
    "    rotation_axis = cross_product(vec1, target)\n",
    "    \n",
    "    # Calculate the angle between the vectors in radians\n",
    "    angle_diff_rad = angle_difference(vec1, target) * (np.pi / 180)\n",
    "    \n",
    "    # Normalize the rotation axis\n",
    "    rotation_axis = rotation_axis / np.sqrt(np.sum(np.square(rotation_axis)))\n",
    "    \n",
    "    # Rodrigues' rotation formula components\n",
    "    K = np.array([[0, -rotation_axis[2], rotation_axis[1]],\n",
    "                  [rotation_axis[2], 0, -rotation_axis[0]],\n",
    "                  [-rotation_axis[1], rotation_axis[0], 0]])\n",
    "    I = np.eye(3)\n",
    "    R = I + np.sin(angle_diff_rad) * K + (1 - np.cos(angle_diff_rad)) * np.dot(K, K)\n",
    "    \n",
    "    # Rotate vec1\n",
    "    rotated_vec1 = np.dot(R, vec1)\n",
    "    \n",
    "    # Return the rotated vector\n",
    "    return rotated_vec1\n"
   ]
  },
  {
   "cell_type": "code",
   "execution_count": 9,
   "metadata": {},
   "outputs": [
    {
     "name": "stdout",
     "output_type": "stream",
     "text": [
      "Rotated Vector:\n",
      "[0.         0.99990605 0.01370735]\n",
      "[0.         0.99963075 0.02717298]\n",
      "[0.         0.99918364 0.04039879]\n"
     ]
    }
   ],
   "source": [
    "vec1 = [0, 1, 0]\n",
    "target = [0, 1, 1]\n",
    "\n",
    "rotated_vec1 = rotate_vector_to_align(vec1, target)\n",
    "rotated_vec2 = rotate_vector_to_align(rotated_vec1, target)\n",
    "rotated_vec3 = rotate_vector_to_align(rotated_vec2, target)\n",
    "\n",
    "print(\"Rotated Vector:\")\n",
    "print(rotated_vec1)\n",
    "print(rotated_vec2)\n",
    "print(rotated_vec3)\n"
   ]
  }
 ],
 "metadata": {
  "kernelspec": {
   "display_name": "Python 3",
   "language": "python",
   "name": "python3"
  },
  "language_info": {
   "codemirror_mode": {
    "name": "ipython",
    "version": 3
   },
   "file_extension": ".py",
   "mimetype": "text/x-python",
   "name": "python",
   "nbconvert_exporter": "python",
   "pygments_lexer": "ipython3",
   "version": "3.10.10"
  }
 },
 "nbformat": 4,
 "nbformat_minor": 2
}
